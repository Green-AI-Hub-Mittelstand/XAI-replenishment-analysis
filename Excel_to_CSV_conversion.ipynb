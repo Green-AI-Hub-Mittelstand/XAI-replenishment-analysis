{
 "cells": [
  {
   "metadata": {},
   "cell_type": "markdown",
   "source": [
    "# Convert ULT Excel Files to CSV needed for the Dashboard\n",
    "This guide explains how to convert specific Excel files, as defined in our project, into multiple CSV files. Each sheet within an Excel file will be saved as a separate CSV."
   ],
   "id": "577b451889ef529a"
  },
  {
   "metadata": {},
   "cell_type": "markdown",
   "source": [
    "The primary goal is to make the data more accessible and faster to read for the dashboard and data analysis pipelines for this project.\n",
    "\n",
    "## 1. Import Libraries\n",
    "First, we need to import the necessary Python libraries. We'll use os to handle file paths and pandas for the data reading and conversion."
   ],
   "id": "30efb7ac6e9053f9"
  },
  {
   "metadata": {
    "ExecuteTime": {
     "end_time": "2025-06-27T11:09:35.464517Z",
     "start_time": "2025-06-27T11:09:35.463207Z"
    }
   },
   "cell_type": "code",
   "source": [
    "import pandas as pd\n",
    "import os"
   ],
   "id": "1aa0a0f3012bf9b8",
   "outputs": [],
   "execution_count": 1
  },
  {
   "metadata": {},
   "cell_type": "markdown",
   "source": [
    "## 2. Define File Paths\n",
    "Next, we list all the necessary Excel files that our project depends on. These paths are relative to where the script is run.\n",
    "\n",
    "Note: You may need to adjust these paths if your directory structure is different."
   ],
   "id": "46c532af24ca4e78"
  },
  {
   "metadata": {},
   "cell_type": "code",
   "outputs": [],
   "execution_count": null,
   "source": [
    "# This can be changed depending on your directory\n",
    "files_to_convert = [\n",
    "    '../data/TOOL-Meldebestandsberechnung_SQL_(STA-June2022)-NAV_PROD_neu7.xlsx',\n",
    "    '../data/ult_csv/ULT_Artikel_Daten_12122024.xlsx',\n",
    "    '../data/ULT_ExcelFiles/Artikel Baureihen.xlsx'\n",
    "]"
   ],
   "id": "d016f78e159c3971"
  },
  {
   "metadata": {},
   "cell_type": "markdown",
   "source": [
    "## 3. The Conversion Function\n",
    "The following Python function contains the core logic. It iterates through the list of file paths you defined above, checks if each file exists, and then converts each sheet into its own CSV file.\n",
    "\n"
   ],
   "id": "9a3a66deb3bcae20"
  },
  {
   "metadata": {
    "ExecuteTime": {
     "end_time": "2025-06-27T11:12:00.214413Z",
     "start_time": "2025-06-27T11:12:00.208367Z"
    }
   },
   "cell_type": "code",
   "source": [
    "def convert_specific_excel_files_to_csv(file_list):\n",
    "    \"\"\"\n",
    "    Converts sheets from a specific list of Excel files into CSV files.\n",
    "\n",
    "    Args:\n",
    "        file_list (list): A list of paths to the Excel files to be converted.\n",
    "    \"\"\"\n",
    "    for excel_file_path in file_list:\n",
    "        print(f\"\\nAttempting to process: {excel_file_path}\")\n",
    "\n",
    "        if not os.path.exists(excel_file_path):\n",
    "            print(f\"    -> ERROR: File not found at '{excel_file_path}'. Please check the path.\")\n",
    "            continue\n",
    "\n",
    "        try:\n",
    "            # Load the Excel file\n",
    "            xls = pd.ExcelFile(excel_file_path)\n",
    "\n",
    "            # Get the directory and base filename for saving CSVs\n",
    "            directory = os.path.dirname(excel_file_path)\n",
    "            base_filename = os.path.splitext(os.path.basename(excel_file_path))[0]\n",
    "\n",
    "            # Iterate over each sheet\n",
    "            for sheet_name in xls.sheet_names:\n",
    "                print(f\"  - Reading sheet: '{sheet_name}'\")\n",
    "\n",
    "                df = pd.read_excel(xls, sheet_name=sheet_name)\n",
    "\n",
    "                # Define the output CSV path\n",
    "                csv_filename = f\"{base_filename}_{sheet_name}.csv\"\n",
    "                csv_file_path = os.path.join(directory, csv_filename)\n",
    "\n",
    "                # Save to CSV\n",
    "                df.to_csv(csv_file_path, index=False)\n",
    "\n",
    "                print(f\"    -> Successfully converted to '{csv_file_path}'\")\n",
    "\n",
    "        except Exception as e:\n",
    "            print(f\"    -> ERROR: Could not process file {excel_file_path}. Reason: {e}\")\n",
    "\n",
    "    print(\"\\nConversion process finished.\")\n"
   ],
   "id": "d991ddbfef97f255",
   "outputs": [],
   "execution_count": 2
  },
  {
   "metadata": {},
   "cell_type": "markdown",
   "source": [
    "## 4. Execute the Conversion\n",
    "Finally, to start the process, you would call the function with the list of files."
   ],
   "id": "b9a585d52a8c1e3e"
  },
  {
   "metadata": {},
   "cell_type": "code",
   "outputs": [],
   "execution_count": null,
   "source": [
    "# This will start the conversion process for the files listed in step 2.\n",
    "convert_specific_excel_files_to_csv(files_to_convert)"
   ],
   "id": "73e040786a5c286b"
  },
  {
   "metadata": {},
   "cell_type": "markdown",
   "source": [
    "## 5. Replacing the data\n",
    "After the conversion is done, you need to replace the files with the current ones in the `data/cleaned_104_data` directory make sure that they have the same filenames as the ones getting replaced."
   ],
   "id": "628f59a3c53c4e0a"
  },
  {
   "metadata": {},
   "cell_type": "code",
   "outputs": [],
   "execution_count": null,
   "source": "",
   "id": "6cadb6a567e34146"
  }
 ],
 "metadata": {
  "kernelspec": {
   "display_name": "Python 3",
   "language": "python",
   "name": "python3"
  },
  "language_info": {
   "codemirror_mode": {
    "name": "ipython",
    "version": 2
   },
   "file_extension": ".py",
   "mimetype": "text/x-python",
   "name": "python",
   "nbconvert_exporter": "python",
   "pygments_lexer": "ipython2",
   "version": "2.7.6"
  }
 },
 "nbformat": 4,
 "nbformat_minor": 5
}
